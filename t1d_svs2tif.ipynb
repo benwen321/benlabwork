{
 "cells": [
  {
   "cell_type": "code",
   "execution_count": 1,
   "metadata": {
    "collapsed": true,
    "ExecuteTime": {
     "end_time": "2024-05-10T19:09:31.872498900Z",
     "start_time": "2024-05-10T19:09:31.617579400Z"
    }
   },
   "outputs": [],
   "source": [
    "# import packages\n",
    "import os\n",
    "from PIL import Image\n",
    "import numpy as np\n",
    "\n",
    "# import tensorflow as tf\n",
    "# physical_devices = tf.config.list_physical_devices('GPU')\n",
    "# print(tf.__version__)\n",
    "OPENSLIDE_PATH = r'C:\\Program Files\\openslide-win64-20230414\\bin'\n",
    "\n",
    "os.environ['PATH'] = OPENSLIDE_PATH + \";\" + os.environ['PATH']\n",
    "\n",
    "if hasattr(os, 'add_dll_directory'):\n",
    "    with os.add_dll_directory(OPENSLIDE_PATH):\n",
    "        import openslide\n",
    "else:\n",
    "    import openslide\n",
    "\n",
    "from openslide import OpenSlide\n"
   ]
  },
  {
   "cell_type": "code",
   "execution_count": 2,
   "outputs": [],
   "source": [
    "# set output path for 10x and 2x tif images - create directory if they don't exist\n",
    "WSI_path = r'\\\\10.17.97.73\\kiemen-lab-data\\Yu Shen\\T1D\\6521_aab\\svs_files'\n",
    "path_10x = os.path.join(WSI_path, '10x')\n",
    "path_2x = os.path.join(WSI_path, '2x')  # actually 2.5\n",
    "if not os.path.exists(path_10x):\n",
    "    os.mkdir(path_10x)\n",
    "if not os.path.exists(path_2x):\n",
    "    os.mkdir(path_2x)"
   ],
   "metadata": {
    "collapsed": false,
    "ExecuteTime": {
     "end_time": "2024-05-10T19:09:33.283423200Z",
     "start_time": "2024-05-10T19:09:33.250420300Z"
    }
   }
  },
  {
   "cell_type": "code",
   "execution_count": 4,
   "outputs": [],
   "source": [
    "\n",
    "# find missing images -> code will continue with the missing ones and skip the ones that are existed\n",
    "wsis = [_ for _ in os.listdir(WSI_path) if _.endswith('svs')]\n",
    "wsis2 = [os.path.splitext(_)[0] for _ in wsis]\n",
    "tenx = [_ for _ in os.listdir(path_10x) if _.endswith('tif')]\n",
    "tenx2 = [os.path.splitext(_)[0] for _ in tenx]\n",
    "missingimages = [_ for _ in wsis2 if _ not in tenx2]"
   ],
   "metadata": {
    "collapsed": false,
    "ExecuteTime": {
     "end_time": "2024-05-10T19:09:50.281686500Z",
     "start_time": "2024-05-10T19:09:50.241204Z"
    }
   }
  },
  {
   "cell_type": "code",
   "execution_count": 5,
   "outputs": [
    {
     "name": "stdout",
     "output_type": "stream",
     "text": [
      "0 / 398  processing:  6521-002\n"
     ]
    },
    {
     "ename": "MemoryError",
     "evalue": "",
     "output_type": "error",
     "traceback": [
      "\u001B[1;31m---------------------------------------------------------------------------\u001B[0m",
      "\u001B[1;31mMemoryError\u001B[0m                               Traceback (most recent call last)",
      "Cell \u001B[1;32mIn[5], line 6\u001B[0m\n\u001B[0;32m      3\u001B[0m wsi \u001B[38;5;241m=\u001B[39m OpenSlide(os\u001B[38;5;241m.\u001B[39mpath\u001B[38;5;241m.\u001B[39mjoin(WSI_path, missingimage \u001B[38;5;241m+\u001B[39m \u001B[38;5;124m'\u001B[39m\u001B[38;5;124m.svs\u001B[39m\u001B[38;5;124m'\u001B[39m))\n\u001B[0;32m      5\u001B[0m rsf \u001B[38;5;241m=\u001B[39m \u001B[38;5;241m1\u001B[39m  \u001B[38;5;66;03m# 1 micorn/pixel = 10x\u001B[39;00m\n\u001B[1;32m----> 6\u001B[0m svs_img \u001B[38;5;241m=\u001B[39m \u001B[43mwsi\u001B[49m\u001B[38;5;241;43m.\u001B[39;49m\u001B[43mread_region\u001B[49m\u001B[43m(\u001B[49m\u001B[43mlocation\u001B[49m\u001B[38;5;241;43m=\u001B[39;49m\u001B[43m(\u001B[49m\u001B[38;5;241;43m0\u001B[39;49m\u001B[43m,\u001B[49m\u001B[43m \u001B[49m\u001B[38;5;241;43m0\u001B[39;49m\u001B[43m)\u001B[49m\u001B[43m,\u001B[49m\u001B[43m \u001B[49m\u001B[43mlevel\u001B[49m\u001B[38;5;241;43m=\u001B[39;49m\u001B[38;5;241;43m0\u001B[39;49m\u001B[43m,\u001B[49m\u001B[43m \u001B[49m\u001B[43msize\u001B[49m\u001B[38;5;241;43m=\u001B[39;49m\u001B[43mwsi\u001B[49m\u001B[38;5;241;43m.\u001B[39;49m\u001B[43mlevel_dimensions\u001B[49m\u001B[43m[\u001B[49m\u001B[38;5;241;43m0\u001B[39;49m\u001B[43m]\u001B[49m\u001B[43m)\u001B[49m\u001B[38;5;241;43m.\u001B[39;49m\u001B[43mconvert\u001B[49m\u001B[43m(\u001B[49m\u001B[38;5;124;43m'\u001B[39;49m\u001B[38;5;124;43mRGB\u001B[39;49m\u001B[38;5;124;43m'\u001B[39;49m\u001B[43m)\u001B[49m\n\u001B[0;32m      7\u001B[0m resize_factorx \u001B[38;5;241m=\u001B[39m rsf \u001B[38;5;241m/\u001B[39m \u001B[38;5;28mfloat\u001B[39m(wsi\u001B[38;5;241m.\u001B[39mproperties[\u001B[38;5;124m'\u001B[39m\u001B[38;5;124mopenslide.mpp-x\u001B[39m\u001B[38;5;124m'\u001B[39m])  \u001B[38;5;66;03m#8um = 1.25x #4um = 2.5x, #2um=5x, 1um=10x, 0.5um=20x, 0.25um=40x\u001B[39;00m\n\u001B[0;32m      8\u001B[0m resize_factory \u001B[38;5;241m=\u001B[39m rsf \u001B[38;5;241m/\u001B[39m \u001B[38;5;28mfloat\u001B[39m(wsi\u001B[38;5;241m.\u001B[39mproperties[\u001B[38;5;124m'\u001B[39m\u001B[38;5;124mopenslide.mpp-y\u001B[39m\u001B[38;5;124m'\u001B[39m])\n",
      "File \u001B[1;32m~\\.conda\\envs\\ndpi2tif\\lib\\site-packages\\PIL\\Image.py:1055\u001B[0m, in \u001B[0;36mImage.convert\u001B[1;34m(self, mode, matrix, dither, palette, colors)\u001B[0m\n\u001B[0;32m   1052\u001B[0m     dither \u001B[38;5;241m=\u001B[39m Dither\u001B[38;5;241m.\u001B[39mFLOYDSTEINBERG\n\u001B[0;32m   1054\u001B[0m \u001B[38;5;28;01mtry\u001B[39;00m:\n\u001B[1;32m-> 1055\u001B[0m     im \u001B[38;5;241m=\u001B[39m \u001B[38;5;28;43mself\u001B[39;49m\u001B[38;5;241;43m.\u001B[39;49m\u001B[43mim\u001B[49m\u001B[38;5;241;43m.\u001B[39;49m\u001B[43mconvert\u001B[49m\u001B[43m(\u001B[49m\u001B[43mmode\u001B[49m\u001B[43m,\u001B[49m\u001B[43m \u001B[49m\u001B[43mdither\u001B[49m\u001B[43m)\u001B[49m\n\u001B[0;32m   1056\u001B[0m \u001B[38;5;28;01mexcept\u001B[39;00m \u001B[38;5;167;01mValueError\u001B[39;00m:\n\u001B[0;32m   1057\u001B[0m     \u001B[38;5;28;01mtry\u001B[39;00m:\n\u001B[0;32m   1058\u001B[0m         \u001B[38;5;66;03m# normalize source image and try again\u001B[39;00m\n",
      "\u001B[1;31mMemoryError\u001B[0m: "
     ]
    }
   ],
   "source": [
    "\n",
    "for idx, missingimage in enumerate(missingimages):\n",
    "    print(idx, '/', len(missingimages), ' processing: ', missingimage)\n",
    "    wsi = OpenSlide(os.path.join(WSI_path, missingimage + '.svs'))\n",
    "\n",
    "    rsf = 1  # 1 micorn/pixel = 10x\n",
    "    svs_img = wsi.read_region(location=(0, 0), level=0, size=wsi.level_dimensions[0]).convert('RGB')\n",
    "    resize_factorx = rsf / float(wsi.properties['openslide.mpp-x'])  #8um = 1.25x #4um = 2.5x, #2um=5x, 1um=10x, 0.5um=20x, 0.25um=40x\n",
    "    resize_factory = rsf / float(wsi.properties['openslide.mpp-y'])\n",
    "    resize_dimension = tuple([int(np.ceil(wsi.dimensions[0] / resize_factorx)), int(np.ceil(wsi.dimensions[1] / resize_factory))])\n",
    "    svs_img10x = svs_img.resize(resize_dimension, resample=Image.NEAREST)\n",
    "    svs_img10x.save(os.path.join(path_10x, missingimage + '.tif'), resolution=1, resolution_unit=1, quality=100, compression=None)\n",
    "\n",
    "    rsf = 4\n",
    "    resize_factorx = rsf / float(wsi.properties['openslide.mpp-x'])  #8um = 1.25x #4um = 2.5x, #2um=5x, 1um=10x, 0.5um=20x, 0.25um=40x\n",
    "    resize_factory = rsf / float(wsi.properties['openslide.mpp-y'])\n",
    "    resize_dimension = tuple([int(np.ceil(wsi.dimensions[0] / resize_factorx)), int(np.ceil(wsi.dimensions[1] / resize_factory))])\n",
    "    svs_img2_5x = svs_img.resize(resize_dimension, resample=Image.NEAREST)\n",
    "    svs_img2_5x.save(os.path.join(path_2x, missingimage + '.tif'), resolution=2_5, resolution_unit=1, quality=100, compression=None)"
   ],
   "metadata": {
    "collapsed": false,
    "ExecuteTime": {
     "end_time": "2024-05-10T19:23:53.114131600Z",
     "start_time": "2024-05-10T19:09:52.437938Z"
    }
   }
  },
  {
   "cell_type": "code",
   "execution_count": null,
   "outputs": [],
   "source": [],
   "metadata": {
    "collapsed": false
   }
  }
 ],
 "metadata": {
  "kernelspec": {
   "display_name": "Python 3",
   "language": "python",
   "name": "python3"
  },
  "language_info": {
   "codemirror_mode": {
    "name": "ipython",
    "version": 2
   },
   "file_extension": ".py",
   "mimetype": "text/x-python",
   "name": "python",
   "nbconvert_exporter": "python",
   "pygments_lexer": "ipython2",
   "version": "2.7.6"
  }
 },
 "nbformat": 4,
 "nbformat_minor": 0
}
