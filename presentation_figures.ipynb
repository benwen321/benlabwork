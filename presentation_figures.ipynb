{
 "cells": [
  {
   "cell_type": "code",
   "execution_count": 13,
   "metadata": {
    "collapsed": true,
    "ExecuteTime": {
     "end_time": "2024-08-22T18:50:26.587205Z",
     "start_time": "2024-08-22T18:50:10.813687400Z"
    }
   },
   "outputs": [],
   "source": [
    "from PIL import Image\n",
    "import numpy as np\n",
    "import matplotlib.pyplot as plt\n",
    "from os.path import join\n",
    "\n",
    "# Load the TIFF files\n",
    "path1 = r'\\\\10.99.68.178\\ashleyex\\Type_1_diabetes\\HE2IHC\\results\\inferred_IHC\\iter_7550\\classification_07302024\\013_tile_00091_inferred.tif'\n",
    "path2 = r'\\\\10.99.68.178\\ashleyex\\Type_1_diabetes\\HE2IHC\\results\\inferred_IHC\\GT_HE\\classification_07232024\\013_tile_00091.tif'\n",
    "\n",
    "# Open the images and convert them to NumPy arrays\n",
    "image1 = Image.open(path1)\n",
    "image2 = Image.open(path2)\n",
    "\n",
    "array1 = np.array(image1)\n",
    "array2 = np.array(image2)\n",
    "\n",
    "# Create masks for the intersection, union, and neither regions\n",
    "intersection = (array1 == 1) & (array2 == 1)\n",
    "union = (array1 == 1) | (array2 == 1)\n",
    "only_in_union = union & ~intersection\n",
    "\n",
    "# Initialize the display array with zeros (black)\n",
    "display_array = np.zeros_like(array1, dtype=np.uint8)\n",
    "\n",
    "# Set intersection to white\n",
    "display_array[intersection] = 255\n",
    "\n",
    "# Set union (excluding intersection) to grey\n",
    "display_array[only_in_union] = 128\n",
    "\n",
    "# Convert the array to an image and display it\n",
    "display_image = Image.fromarray(display_array, mode='L')\n",
    "display_image.show()\n",
    "\n",
    "# Optionally, save the image\n",
    "output_path = r'\\\\10.17.97.73\\kiemen-lab-data\\Yu Shen\\Benjamin Wen\\presentations&figures\\synthetic_ihc_figures\\013_tile_00091_union_intersection.png'\n",
    "display_image.save(output_path)"
   ]
  },
  {
   "cell_type": "code",
   "execution_count": 10,
   "outputs": [
    {
     "data": {
      "text/plain": "True"
     },
     "execution_count": 10,
     "metadata": {},
     "output_type": "execute_result"
    }
   ],
   "source": [
    "import cv2\n",
    "import numpy as np\n",
    "from matplotlib import pyplot as plt\n",
    "\n",
    "# Load the image\n",
    "#image_path = r'\\\\10.99.68.178\\ashleyex\\Type_1_diabetes\\HE2IHC\\results\\inferred_IHC\\iter_7550\\020_tile_00009_inferred.png'\n",
    "image_path = r'\\\\10.99.68.178\\ashleyex\\Type_1_diabetes\\HE2IHC\\results\\inferred_IHC\\GT_IHC\\020_tile_00009.png'\n",
    "image = cv2.imread(image_path)\n",
    "\n",
    "# Convert the image to HSV color space\n",
    "hsv_image = cv2.cvtColor(image, cv2.COLOR_BGR2HSV)\n",
    "hsv_image = cv2.GaussianBlur(hsv_image, (3, 3), 0)\n",
    "\n",
    "# Define HSV ranges for the two masks\n",
    "# Format: (lower hue, lower saturation, lower value), (upper hue, upper saturation, upper value)\n",
    "#range1 = ((100, 66, 35), (120, 255, 220))  # Example range 1 (e.g., yellow hues)\n",
    "range2 = ((159, 44, 44), (255, 255, 255)) # Example range 2 (e.g., blue hues)\n",
    "\n",
    "\n",
    "# Create masks for each range\n",
    "mask1 = cv2.inRange(hsv_image, np.array(range2[0]), np.array(range2[1]))\n",
    "#mask2 = cv2.inRange(hsv_image, np.array(range2[0]), np.array(range2[1]))\n",
    "\n",
    "# Combine masks to keep pixels in either range\n",
    "#combined_mask = cv2.bitwise_or(mask1, mask2)\n",
    "\n",
    "\n",
    "# Convert the combined mask to a 3-channel mask\n",
    "#combined_mask_3channel = cv2.cvtColor(combined_mask, cv2.COLOR_GRAY2BGR)\n",
    "mask_3channel = cv2.cvtColor(mask1, cv2.COLOR_GRAY2BGR)\n",
    "\n",
    "# Create the output image where pixels within the ranges are kept, and everything else is set to black\n",
    "#output_image = cv2.bitwise_and(image, combined_mask_3channel)\n",
    "output_image = cv2.bitwise_and(image, mask_3channel)\n",
    "#cv2.imshow(\"output_image\",output_image)\n",
    "#cv2.waitKey(0)\n",
    "\n",
    "#\n",
    "# Optionally, save the image\n",
    "output_path = r'\\\\10.17.97.73\\kiemen-lab-data\\Yu Shen\\Benjamin Wen\\presentations&figures\\synthetic_ihc_figures\\020_tile_00009_red_mask.png'\n",
    "# Optionally save the masks\n",
    "cv2.imwrite(output_path, output_image)\n"
   ],
   "metadata": {
    "collapsed": false,
    "ExecuteTime": {
     "end_time": "2024-08-22T19:51:22.095083Z",
     "start_time": "2024-08-22T19:51:22.036143600Z"
    }
   }
  },
  {
   "cell_type": "code",
   "execution_count": null,
   "outputs": [],
   "source": [],
   "metadata": {
    "collapsed": false
   }
  }
 ],
 "metadata": {
  "kernelspec": {
   "display_name": "Python 3",
   "language": "python",
   "name": "python3"
  },
  "language_info": {
   "codemirror_mode": {
    "name": "ipython",
    "version": 2
   },
   "file_extension": ".py",
   "mimetype": "text/x-python",
   "name": "python",
   "nbconvert_exporter": "python",
   "pygments_lexer": "ipython2",
   "version": "2.7.6"
  }
 },
 "nbformat": 4,
 "nbformat_minor": 0
}
