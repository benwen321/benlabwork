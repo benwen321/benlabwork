{
 "cells": [
  {
   "cell_type": "code",
   "execution_count": 1,
   "metadata": {
    "collapsed": true,
    "ExecuteTime": {
     "end_time": "2024-05-03T21:16:44.368371800Z",
     "start_time": "2024-05-03T21:16:41.678823900Z"
    }
   },
   "outputs": [],
   "source": [
    "# import packages\n",
    "import os\n",
    "from PIL import Image\n",
    "import numpy as np\n",
    "\n",
    "# import tensorflow as tf\n",
    "# physical_devices = tf.config.list_physical_devices('GPU')\n",
    "# print(tf.__version__)\n",
    "OPENSLIDE_PATH = r'C:\\Program Files\\openslide-win64-20230414\\bin'\n",
    "\n",
    "os.environ['PATH'] = OPENSLIDE_PATH + \";\" + os.environ['PATH']\n",
    "\n",
    "if hasattr(os, 'add_dll_directory'):\n",
    "    with os.add_dll_directory(OPENSLIDE_PATH):\n",
    "        import openslide\n",
    "else:\n",
    "    import openslide\n",
    "\n",
    "from openslide import OpenSlide\n"
   ]
  },
  {
   "cell_type": "code",
   "execution_count": 2,
   "outputs": [],
   "source": [
    "# set output path for 10x and 2x tif images - create directory if they don't exist\n",
    "WSI_path = r'\\\\10.17.97.73\\kiemen-lab-data\\Yu Shen\\T1D\\HE2IHC\\t1d_batch2\\IHC_svs'\n",
    "path_10x = os.path.join(WSI_path, '10x')\n",
    "path_2x = os.path.join(WSI_path, '2x')  # actually 2.5\n",
    "if not os.path.exists(path_10x):\n",
    "    os.mkdir(path_10x)\n",
    "if not os.path.exists(path_2x):\n",
    "    os.mkdir(path_2x)"
   ],
   "metadata": {
    "collapsed": false,
    "ExecuteTime": {
     "end_time": "2024-05-03T21:16:59.772648100Z",
     "start_time": "2024-05-03T21:16:59.730475400Z"
    }
   }
  },
  {
   "cell_type": "code",
   "execution_count": 3,
   "outputs": [],
   "source": [
    "\n",
    "# find missing images -> code will continue with the missing ones and skip the ones that are existed\n",
    "wsis = [_ for _ in os.listdir(WSI_path) if _.endswith('svs')]\n",
    "wsis2 = [os.path.splitext(_)[0] for _ in wsis]\n",
    "tenx = [_ for _ in os.listdir(path_10x) if _.endswith('tif')]\n",
    "tenx2 = [os.path.splitext(_)[0] for _ in tenx]\n",
    "missingimages = [_ for _ in wsis2 if _ not in tenx2]"
   ],
   "metadata": {
    "collapsed": false,
    "ExecuteTime": {
     "end_time": "2024-05-03T21:17:10.343798900Z",
     "start_time": "2024-05-03T21:17:10.263068500Z"
    }
   }
  },
  {
   "cell_type": "code",
   "execution_count": 4,
   "outputs": [
    {
     "name": "stdout",
     "output_type": "stream",
     "text": [
      "0 / 36  processing:  64_130224_IHC\n",
      "1 / 36  processing:  65_130221_IHC\n",
      "2 / 36  processing:  66_130220_IHC\n",
      "3 / 36  processing:  67_121823_IHC\n",
      "4 / 36  processing:  68_121822_IHC\n",
      "5 / 36  processing:  69_121821_IHC\n",
      "6 / 36  processing:  70_131022_IHC\n",
      "7 / 36  processing:  71_131025_IHC\n",
      "8 / 36  processing:  72_131028_IHC\n",
      "9 / 36  processing:  73_134779_IHC\n",
      "10 / 36  processing:  74_134785_IHC\n",
      "11 / 36  processing:  75_134775_IHC\n",
      "12 / 36  processing:  76_134734_IHC\n",
      "13 / 36  processing:  77_134739_IHC\n",
      "14 / 36  processing:  78_134742_IHC\n",
      "15 / 36  processing:  79_136667_IHC\n",
      "16 / 36  processing:  80_136703_IHC\n",
      "17 / 36  processing:  81_136665_IHC\n",
      "18 / 36  processing:  82_137667_IHC\n",
      "19 / 36  processing:  83_137692_IHC\n",
      "20 / 36  processing:  84_137679_IHC\n",
      "21 / 36  processing:  85_172850_IHC\n",
      "22 / 36  processing:  86_172867_IHC\n",
      "23 / 36  processing:  87_172874_IHC\n",
      "24 / 36  processing:  88_174453_IHC\n",
      "25 / 36  processing:  89_174478_IHC\n",
      "26 / 36  processing:  90_174475_IHC\n",
      "27 / 36  processing:  91_178146_IHC\n",
      "28 / 36  processing:  92_178150_IHC\n",
      "29 / 36  processing:  93_178153_IHC\n",
      "30 / 36  processing:  94_178581_IHC\n",
      "31 / 36  processing:  95_178586_IHC\n",
      "32 / 36  processing:  96_178588_IHC\n",
      "33 / 36  processing:  97_180691_IHC\n",
      "34 / 36  processing:  98_180697_IHC\n",
      "35 / 36  processing:  99_180700_IHC\n"
     ]
    }
   ],
   "source": [
    "\n",
    "for idx, missingimage in enumerate(missingimages):\n",
    "    print(idx, '/', len(missingimages), ' processing: ', missingimage)\n",
    "    wsi = OpenSlide(os.path.join(WSI_path, missingimage + '.svs'))\n",
    "\n",
    "    rsf = 1\n",
    "    svs_img = wsi.read_region(location=(0, 0), level=0, size=wsi.level_dimensions[0]).convert('RGB')\n",
    "    resize_factorx = rsf / float(wsi.properties['openslide.mpp-x'])  #8um = 1.25x #4um = 2.5x, #2um=5x, 1um=10x, 0.5um=20x, 0.25um=40x\n",
    "    resize_factory = rsf / float(wsi.properties['openslide.mpp-y'])\n",
    "    resize_dimension = tuple([int(np.ceil(wsi.dimensions[0] / resize_factorx)), int(np.ceil(wsi.dimensions[1] / resize_factory))])\n",
    "    svs_img10x = svs_img.resize(resize_dimension, resample=Image.NEAREST)\n",
    "    svs_img10x.save(os.path.join(path_10x, missingimage + '.tif'), resolution=1, resolution_unit=1, quality=100, compression=None)\n",
    "\n",
    "    rsf = 5\n",
    "    resize_factorx = rsf / float(wsi.properties['openslide.mpp-x'])  #8um = 1.25x #4um = 2.5x, #2um=5x, 1um=10x, 0.5um=20x, 0.25um=40x\n",
    "    resize_factory = rsf / float(wsi.properties['openslide.mpp-y'])\n",
    "    resize_dimension = tuple([int(np.ceil(wsi.dimensions[0] / resize_factorx)), int(np.ceil(wsi.dimensions[1] / resize_factory))])\n",
    "    svs_img2_5x = svs_img.resize(resize_dimension, resample=Image.NEAREST)\n",
    "    svs_img2_5x.save(os.path.join(path_2x, missingimage + '.tif'), resolution=2_5, resolution_unit=1, quality=100, compression=None)"
   ],
   "metadata": {
    "collapsed": false,
    "ExecuteTime": {
     "end_time": "2024-05-03T23:02:35.404906500Z",
     "start_time": "2024-05-03T21:17:12.641953500Z"
    }
   }
  },
  {
   "cell_type": "code",
   "execution_count": null,
   "outputs": [],
   "source": [],
   "metadata": {
    "collapsed": false
   }
  }
 ],
 "metadata": {
  "kernelspec": {
   "display_name": "Python 3",
   "language": "python",
   "name": "python3"
  },
  "language_info": {
   "codemirror_mode": {
    "name": "ipython",
    "version": 2
   },
   "file_extension": ".py",
   "mimetype": "text/x-python",
   "name": "python",
   "nbconvert_exporter": "python",
   "pygments_lexer": "ipython2",
   "version": "2.7.6"
  }
 },
 "nbformat": 4,
 "nbformat_minor": 0
}
