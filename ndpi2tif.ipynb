{
 "cells": [
  {
   "cell_type": "code",
   "execution_count": 1,
   "metadata": {
    "collapsed": true,
    "ExecuteTime": {
     "end_time": "2023-10-13T19:27:03.512545700Z",
     "start_time": "2023-10-13T19:27:01.693058600Z"
    }
   },
   "outputs": [],
   "source": [
    "import os\n",
    "from PIL import Image\n",
    "import numpy as np\n",
    "\n",
    "OPENSLIDE_PATH=r'C:\\Program Files\\openslide-win64-20230414\\bin'\n",
    "os.environ['PATH'] = OPENSLIDE_PATH + \";\" + os.environ['PATH']\n",
    "\n",
    "if hasattr(os, 'add_dll_directory'):\n",
    "    with os.add_dll_directory(OPENSLIDE_PATH):\n",
    "        import openslide\n",
    "else:\n",
    "    import openslide\n",
    "\n",
    "from openslide import OpenSlide\n"
   ]
  },
  {
   "cell_type": "code",
   "execution_count": 10,
   "outputs": [],
   "source": [
    "import os\n",
    "from PIL import Image\n",
    "import numpy as np\n",
    "\n",
    "# import tensorflow as tf\n",
    "# physical_devices = tf.config.list_physical_devices('GPU')\n",
    "# print(tf.__version__)\n",
    "OPENSLIDE_PATH= r'C:\\Program Files\\openslide-win64-20230414\\bin'\n",
    "os.environ['PATH'] = OPENSLIDE_PATH + \";\" + os.environ['PATH']\n",
    "\n",
    "if hasattr(os, 'add_dll_directory'):\n",
    "    with os.add_dll_directory(OPENSLIDE_PATH):\n",
    "        import openslide\n",
    "else:\n",
    "    import openslide\n",
    "\n",
    "from openslide import OpenSlide"
   ],
   "metadata": {
    "collapsed": false,
    "ExecuteTime": {
     "end_time": "2023-10-04T14:25:00.661368Z",
     "start_time": "2023-10-04T14:25:00.635776300Z"
    }
   }
  },
  {
   "cell_type": "code",
   "execution_count": 11,
   "outputs": [],
   "source": [
    "wsisrc = r'\\\\10.17.97.73\\kiemen-lab-data\\Yu Shen\\Venous Invasion\\PDAC-FS-3'\n",
    "tenxsrc = os.path.join(wsisrc, '10X')\n",
    "twosrc = os.path.join(wsisrc, '1X')\n",
    "if not os.path.exists(tenxsrc):\n",
    "    os.mkdir(tenxsrc)\n",
    "if not os.path.exists(twosrc):\n",
    "    os.mkdir(twosrc)"
   ],
   "metadata": {
    "collapsed": false,
    "ExecuteTime": {
     "end_time": "2023-10-04T14:25:02.365418800Z",
     "start_time": "2023-10-04T14:25:02.322076500Z"
    }
   }
  },
  {
   "cell_type": "code",
   "execution_count": 7,
   "outputs": [],
   "source": [],
   "metadata": {
    "collapsed": false,
    "ExecuteTime": {
     "end_time": "2023-10-03T19:06:31.162862100Z",
     "start_time": "2023-10-03T19:06:31.157601700Z"
    }
   }
  },
  {
   "cell_type": "code",
   "execution_count": 14,
   "outputs": [],
   "source": [
    "wsis = [_ for _ in os.listdir(wsisrc) if _.endswith('ndpi')]\n",
    "wsis2 = [os.path.splitext(_)[0] for _ in wsis]\n",
    "tenx = [_ for _ in os.listdir(tenxsrc) if _.endswith('tif')]\n",
    "tenx2 = [os.path.splitext(_)[0] for _ in tenx]\n",
    "missingimages = [_ for _ in wsis2 if _ not in tenx2]"
   ],
   "metadata": {
    "collapsed": false,
    "ExecuteTime": {
     "end_time": "2023-10-04T14:26:16.812925500Z",
     "start_time": "2023-10-04T14:26:16.781631100Z"
    }
   }
  },
  {
   "cell_type": "code",
   "execution_count": 15,
   "outputs": [
    {
     "name": "stdout",
     "output_type": "stream",
     "text": [
      "0 / 1  processing:  PDAC_FS_3_466\n"
     ]
    }
   ],
   "source": [
    "for idx,missingimage in enumerate(missingimages):\n",
    "    print(idx,'/',len(missingimages),' processing: ',missingimage)\n",
    "    wsi = OpenSlide(os.path.join(wsisrc,missingimage+'.ndpi'))\n",
    "    rsf = 1\n",
    "    svs_img = wsi.read_region(location=(0,0),level=0,size=wsi.level_dimensions[0]).convert('RGB')\n",
    "    resize_factorx = rsf/float(wsi.properties['openslide.mpp-x']) #8um = 1.25x #4um = 2.5x, #2um=5x, 1um=10x, 0.5um=20x, 0.25um=40x\n",
    "    resize_factory = rsf/float(wsi.properties['openslide.mpp-y'])\n",
    "    resize_dimension = tuple([int(np.ceil(wsi.dimensions[0]/resize_factorx)),int(np.ceil(wsi.dimensions[1]/resize_factory))])\n",
    "    svs_img = svs_img.resize(resize_dimension,resample=Image.NEAREST) #overwrite svs_img to save memory\n",
    "    svs_img.save(os.path.join(tenxsrc,missingimage+'.tif'),resolution=1,resolution_unit=1,quality=100,compression=None)\n",
    "\n",
    "    rsf = 8\n",
    "    # for diabete study, rsf = 5; for vi study, rsf = 8\n",
    "    resize_factorx = resize_factorx*rsf #8um = 1.25x # 5um = 2x #4um = 2.5x, #2um=5x, 1um=10x, 0.5um=20x, 0.25um=40x\n",
    "    resize_factory = resize_factory*rsf\n",
    "    resize_dimension = tuple([int(np.ceil(wsi.dimensions[0]/resize_factorx)),int(np.ceil(wsi.dimensions[1]/resize_factory))])\n",
    "    svs_img = svs_img.resize(resize_dimension,resample=Image.NEAREST)\n",
    "    svs_img.save(os.path.join(twosrc,missingimage+'.tif'),resolution=2_5,resolution_unit=1,quality=100,compression=None)"
   ],
   "metadata": {
    "collapsed": false,
    "ExecuteTime": {
     "end_time": "2023-10-04T14:31:42.143190900Z",
     "start_time": "2023-10-04T14:26:17.875680300Z"
    }
   }
  },
  {
   "cell_type": "code",
   "execution_count": null,
   "outputs": [],
   "source": [],
   "metadata": {
    "collapsed": false
   }
  }
 ],
 "metadata": {
  "kernelspec": {
   "display_name": "Python 3",
   "language": "python",
   "name": "python3"
  },
  "language_info": {
   "codemirror_mode": {
    "name": "ipython",
    "version": 2
   },
   "file_extension": ".py",
   "mimetype": "text/x-python",
   "name": "python",
   "nbconvert_exporter": "python",
   "pygments_lexer": "ipython2",
   "version": "2.7.6"
  }
 },
 "nbformat": 4,
 "nbformat_minor": 0
}
